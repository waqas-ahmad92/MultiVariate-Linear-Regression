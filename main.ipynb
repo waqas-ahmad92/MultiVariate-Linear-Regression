{
 "cells": [
  {
   "cell_type": "code",
   "execution_count": null,
   "metadata": {
    "collapsed": false
   },
   "outputs": [],
   "source": [
    "import numpy as np"
   ]
  },
  {
   "cell_type": "code",
   "execution_count": null,
   "outputs": [],
   "source": [
    "def compute_gradient(x: np.ndarray, y: np.ndarray, w: np.ndarray, b: int):\n",
    "    \"\"\"\n",
    "\n",
    "    :param x: A numpy array of shape (m, n) where m is the number of training examples and n is the number of features.\n",
    "    :param y:A numpy array of shape (m,) representing the target values.\n",
    "    :param w:A numpy array of shape (n,) representing the weights for each feature.\n",
    "    :param b:A float representing the bias term.\n",
    "    :return:\n",
    "    dj_dw: A numpy array of shape (n,) representing the gradient of the cost function with respect to the weights.\n",
    "    A float representing the gradient of the cost function with respect to the bias.\n",
    "    \"\"\"\n",
    "    m, n = x.shape\n",
    "\n",
    "    dj_dw = np.zeros((n,))\n",
    "    dj_db = 0\n",
    "    for i in range(m):\n",
    "        f_wb = (np.dot(w, x[i]) + b) - y[i]\n",
    "        for j in range(n):\n",
    "            dj_dw[j] = dj_dw[j] + f_wb * x[i, j]\n",
    "        dj_db += f_wb\n",
    "\n",
    "    dj_dw = dj_dw / m\n",
    "    dj_db = dj_db / m\n",
    "    return dj_dw, dj_db\n"
   ],
   "metadata": {
    "collapsed": false
   }
  },
  {
   "cell_type": "code",
   "execution_count": null,
   "outputs": [],
   "source": [
    "def gradient_descent(x: np.ndarray, y: np.ndarray, in_w: np.ndarray, in_b: int, alpha: int, iters: int, gradient):\n",
    "    \"\"\"\n",
    "\n",
    "    :param x: A numpy array of shape (m, n) where m is the number of training examples and n is the number of features.\n",
    "    :param y: A numpy array of shape (m,) representing the target values.\n",
    "    :param in_w: A numpy array of shape (n,) representing the initial weights for each feature.\n",
    "    :param in_b: A float representing the initial bias term.\n",
    "    :param alpha: A float representing the learning rate or step size for updating the weights and bias.\n",
    "    :param iters: An integer representing the number of iterations for which to run the gradient descent algorithm.\n",
    "    :param gradient: A function representing the derivative part of the gradient descent algorithm.\n",
    "    :return:\n",
    "    w: A numpy array of shape (n,) representing the updated weights after running the gradient descent algorithm.\n",
    "    b: A float representing the updated bias term after running the gradient descent algorithm.\n",
    "\n",
    "    \"\"\"\n",
    "    w = in_w\n",
    "    b = in_b\n",
    "\n",
    "    for i in range(iters):\n",
    "        dj_dw, dj_db = gradient(x, y, w, b)\n",
    "\n",
    "        w = w - alpha * dj_dw\n",
    "        b = b - alpha * dj_db\n",
    "\n",
    "    return w, b"
   ],
   "metadata": {
    "collapsed": false
   }
  },
  {
   "cell_type": "code",
   "execution_count": null,
   "outputs": [],
   "source": [],
   "metadata": {
    "collapsed": false
   }
  },
  {
   "cell_type": "code",
   "execution_count": null,
   "metadata": {
    "collapsed": false
   },
   "outputs": [],
   "source": [
    "\n",
    "x_train = np.array([\n",
    "    [1500, 3, 2, 20],\n",
    "    [2500, 4, 3, 10],\n",
    "    [1200, 2, 1, 30],\n",
    "    [1800, 3, 2, 25],\n",
    "    [3000, 4, 3, 5]])\n",
    "y_train = np.array([200, 400, 150, 250, 500])\n",
    "\n",
    "w = np.zeros(len(x_train[0]))\n",
    "b = 0.\n",
    "a = 0.01e-5\n",
    "iterations = 500\n",
    "\n",
    "w, b = gradient_descent(x=x_train, y=y_train, in_w=w, in_b=b, iters=iterations, gradient=compute_gradient, alpha=a)\n",
    "\n",
    "print(w, b)\n",
    "print(f\"Actual: {y_train[-1]}\")\n",
    "print(f\"Predicted: {np.dot(w, x_train[-1]) + b}\")"
   ]
  }
 ],
 "metadata": {
  "kernelspec": {
   "display_name": "Python 3",
   "language": "python",
   "name": "python3"
  },
  "language_info": {
   "codemirror_mode": {
    "name": "ipython",
    "version": 3
   },
   "file_extension": ".py",
   "mimetype": "text/x-python",
   "name": "python",
   "nbconvert_exporter": "python",
   "pygments_lexer": "ipython3",
   "version": "3.11.3"
  },
  "orig_nbformat": 4
 },
 "nbformat": 4,
 "nbformat_minor": 2
}
